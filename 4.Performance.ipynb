{
 "cells": [
  {
   "cell_type": "markdown",
   "id": "f1aace1b-44a0-4f40-acd1-9bf395bc4ce9",
   "metadata": {},
   "source": [
    "<a href=\"https://www.dask.org/\" target=\"_blank\">\n",
    "<img src=\"http://dask.readthedocs.io/en/latest/_images/dask_horizontal.svg\"\n",
    "     align=\"right\"\n",
    "     width=\"30%\"\n",
    "     alt=\"Dask logo\\\">\n",
    "</a>\n",
    "\n",
    "# Performance\n",
    "\n",
    "In this notebook, we will demonstrate how to monitor in the **Dask DasHbard** aspects such as **communication** and **load balance** that that are critical for scientific and data analysis applications' performance. \n",
    "\n",
    "**Content**\n",
    "\n",
    "1. Cluster in a High Performance Computing System."
   ]
  },
  {
   "attachments": {},
   "cell_type": "markdown",
   "id": "3ec3d35a-ff94-4225-8874-353d4d67e7b2",
   "metadata": {},
   "source": [
    "## 1. Cluster in a High Performance Computing System\n",
    "\n",
    "* High Performance Computing (HPC) systems are **tightly coupled, custom, specialized computers**. They primary objetcive is the **accelerate numerical analysis at large scale**. However, in the last years, supercomputers have been adapted to comply with both numerical and data analysis. \n",
    "* Dask can be deployed in a HPC system to perform large scale data analysis. Depending on how Dask was configured in the HPC, it will bring significant advantages in communication-intensive computations.\n",
    "\n",
    "| Diagram                                                                                                                             | High Performance Computing System (El Capitan)                                                                                                                             |\n",
    "|-----------------------------------------------------------------------------------------------------------------------------------|-----------------------------------------------------------------------------------------------------------------------------------|\n",
    "|                                                         |\n",
    "| <img src=\"img/hpc_diagram.png\" width=\"600px\"> | <img src=\"img/hpc_el_capitan.jpeg\" width=\"600px\"> |\n",
    "<center>\n",
    "\n",
    "</center>"
   ]
  },
  {
   "cell_type": "markdown",
   "id": "c9f55345-7eeb-4477-bee7-e7f3345f4d5f",
   "metadata": {},
   "source": [
    "__1. Import required libraries, define required variables and functions__"
   ]
  },
  {
   "cell_type": "code",
   "execution_count": null,
   "id": "fe82a9e6-7ec9-45b7-a2c3-4aa2c5b31db9",
   "metadata": {},
   "outputs": [],
   "source": [
    "import dask\n",
    "from dask_jobqueue import SLURMCluster\n",
    "from dask.distributed import Client"
   ]
  },
  {
   "cell_type": "markdown",
   "id": "b9d2ff6d-c0bb-4404-bbdc-6ebc164004a3",
   "metadata": {},
   "source": [
    "__2. Create a Dask cluster__\n",
    "\n",
    "_Hint: Here you will define how namy `cores` and `memory` will have every Dask worker._"
   ]
  },
  {
   "cell_type": "code",
   "execution_count": null,
   "id": "ed5b7133-348e-4557-8b9f-a6180e75b726",
   "metadata": {},
   "outputs": [],
   "source": [
    "cluster = SLURMCluster(\n",
    "    cores=1,\n",
    "    memory=\"2 GB\",\n",
    "    scheduler_options={\"dashboard_address\": \":0\"}\n",
    ")"
   ]
  },
  {
   "cell_type": "markdown",
   "id": "6d7d7223-4f1d-49e6-ace1-5272eb63c31b",
   "metadata": {},
   "source": [
    "__3. Create a Dask Client and connect the client to the Dask cluster in the High Performance Computing System__\n",
    "\n",
    "_Activities:_ \n",
    "\n",
    "1. Run the cell bellow\n",
    "2. Use the option `Lauch dashborad in JupyterLab`, this will display the Dask Dashboard."
   ]
  },
  {
   "cell_type": "code",
   "execution_count": null,
   "id": "53aa8ca6-08d3-480a-8b9a-c6c94c3b6497",
   "metadata": {
    "scrolled": true
   },
   "outputs": [],
   "source": [
    "client = Client(cluster)  # Connect to distributed cluster and override default\n",
    "client"
   ]
  },
  {
   "cell_type": "markdown",
   "id": "e65464e0-2ca8-4b30-adda-30d2825a40e8",
   "metadata": {},
   "source": [
    "__4. Deploy workers for your Dask cluster__\n",
    "\n",
    "_Hint: each worker will be a slurm job._"
   ]
  },
  {
   "cell_type": "code",
   "execution_count": null,
   "id": "8da7f192-790b-4761-8a4f-fd5b234b9961",
   "metadata": {},
   "outputs": [],
   "source": [
    "cluster.scale(jobs=4)"
   ]
  },
  {
   "cell_type": "markdown",
   "id": "4223cd5f-bfcf-406f-95e6-7fdccd275269",
   "metadata": {},
   "source": [
    "__5. Perform COMPUTATION 1__\n",
    "\n",
    "_Hint: This is an example of a **load balanced**, **lower comunication overhead**, and **lower processors idle time computation**. Lets see how we can identify these aspects in the Dashboard._"
   ]
  },
  {
   "cell_type": "code",
   "execution_count": null,
   "id": "0caec1c3-dbdc-4343-b74a-274644ed2033",
   "metadata": {},
   "outputs": [],
   "source": [
    "%%time \n",
    "\n",
    "import dask.array as da\n",
    "\n",
    "x = da.random.random((10000,10000,10), chunks=(1000,1000,5))\n",
    "y = da.random.random((10000,10000,10), chunks=(1000,1000,5))\n",
    "z = (da.arcsin(x) + da.arccos(y)).sum(axis=(1,2))\n",
    "z.compute()"
   ]
  },
  {
   "cell_type": "markdown",
   "id": "8ad19b36-2f38-4057-81e6-c195ada849bd",
   "metadata": {},
   "source": [
    "__6. Perform COMPUTATION 2__\n",
    "\n",
    "_Hint: This is an example of a **NON-load balanced**, **HIGHER comunication overhead**, and **HIGH processors idle time computation**. Lets see how we can identify these aspects in the Dashboard._"
   ]
  },
  {
   "cell_type": "markdown",
   "id": "a076251a-0f52-468d-bcee-f067f1c63a3e",
   "metadata": {},
   "source": [
    "__7. Perform COMPUTATION 3__"
   ]
  },
  {
   "cell_type": "code",
   "execution_count": null,
   "id": "afc42238-4d48-4322-bbfc-baa959313cb8",
   "metadata": {},
   "outputs": [],
   "source": [
    "%%time \n",
    "\n",
    "import dask.array as da\n",
    "\n",
    "# Good performance: 10_00_000\n",
    "# Bad performance: 100\n",
    "x = da.random.random(10_000_000, chunks=(10_00_000,))\n",
    "z = x.sum().compute()"
   ]
  },
  {
   "cell_type": "markdown",
   "id": "e25122b6-0feb-4822-ab03-1122ceab935c",
   "metadata": {},
   "source": [
    "__7. Showdown the cluster__\n",
    "\n",
    "_Hint: This is **MANDATORY**, one you finish using a cluster you must turn it of, since it will release the computing resources your cluster was using_"
   ]
  },
  {
   "cell_type": "code",
   "execution_count": null,
   "id": "616b86df-4de0-425b-b4fc-f2c0966d185b",
   "metadata": {},
   "outputs": [],
   "source": [
    "cluster.close()"
   ]
  },
  {
   "cell_type": "markdown",
   "id": "a3c4dfd4-5143-42e6-92d7-0e99590a02bb",
   "metadata": {},
   "source": [
    "__9. Close the connection between the client and the cluster__"
   ]
  },
  {
   "cell_type": "code",
   "execution_count": null,
   "id": "3cef29bf-c678-4c8b-b3c5-c294f1fc147b",
   "metadata": {},
   "outputs": [],
   "source": [
    "client.close()"
   ]
  },
  {
   "cell_type": "markdown",
   "id": "8a1b2350-57a6-44f9-aacb-e70b17ea35ee",
   "metadata": {},
   "source": [
    "# [Index](0.Introduction.ipynb)"
   ]
  }
 ],
 "metadata": {
  "kernelspec": {
   "display_name": "Python 3 (ipykernel)",
   "language": "python",
   "name": "python3"
  },
  "language_info": {
   "codemirror_mode": {
    "name": "ipython",
    "version": 3
   },
   "file_extension": ".py",
   "mimetype": "text/x-python",
   "name": "python",
   "nbconvert_exporter": "python",
   "pygments_lexer": "ipython3",
   "version": "3.10.6"
  }
 },
 "nbformat": 4,
 "nbformat_minor": 5
}
