{
 "cells": [
  {
   "cell_type": "markdown",
   "id": "f1aace1b-44a0-4f40-acd1-9bf395bc4ce9",
   "metadata": {},
   "source": [
    "<a href=\"https://www.dask.org/\" target=\"_blank\">\n",
    "<img src=\"http://dask.readthedocs.io/en/latest/_images/dask_horizontal.svg\"\n",
    "     align=\"right\"\n",
    "     width=\"30%\"\n",
    "     alt=\"Dask logo\\\">\n",
    "</a>\n",
    "\n",
    "# Scalability\n",
    "\n",
    "In this notebook, we will explain how Dask achieves scalability from multi-core local machines to large distributed clusters in the cloud for conducting large scale data analytics.\n",
    "\n",
    "**Introduction**\n",
    "\n",
    "Dask employs the **client-server model** to map computations to multiple cores in a single machine or distributed clusters. \n",
    "\n",
    "* In the client-side, a Python/Notebook application can send tasks (computations) to a **Dask Cluster**.\n",
    "* A Dask Cluster is composed of a **scheduler** and the **workers**.\n",
    "* The scheduler reacives tasks (computations) and decide which worker will perform every task.\n",
    "* The workers perform computations and store/share results with other workers.\n",
    "\n",
    "<center>\n",
    "<img src=\"img/dask-cluster.png\" width=\"30%\">\n",
    "</center>\n",
    "\n",
    "**Content**\n",
    "\n",
    "1. Cluster in a single local machine.\n",
    "2. Cluster in a High Performance Computing System.\n",
    "3. Cluster in a Cloud Computing System.\n",
    "\n",
    "**Learning outcomes**"
   ]
  },
  {
   "cell_type": "markdown",
   "id": "d9c12917-9c62-4aa9-a5d3-7e2fc7f4dd9e",
   "metadata": {},
   "source": [
    "## 1. Cluster in a single local machine"
   ]
  },
  {
   "attachments": {},
   "cell_type": "markdown",
   "id": "3ec3d35a-ff94-4225-8874-353d4d67e7b2",
   "metadata": {},
   "source": [
    "## 2. Cluster in a High Performance Computing System"
   ]
  },
  {
   "cell_type": "markdown",
   "id": "8e9f30e6-f3b2-43a2-8317-9dbd1b41ae28",
   "metadata": {},
   "source": [
    "## 3. Cluster in a Cloud Computing System"
   ]
  },
  {
   "cell_type": "markdown",
   "id": "f307da9a-d90b-4cfa-adc2-89aa968efcfd",
   "metadata": {},
   "source": [
    "# [Excerise 3](labs/Lab3.ipynb)"
   ]
  }
 ],
 "metadata": {
  "kernelspec": {
   "display_name": "Python 3 (ipykernel)",
   "language": "python",
   "name": "python3"
  },
  "language_info": {
   "codemirror_mode": {
    "name": "ipython",
    "version": 3
   },
   "file_extension": ".py",
   "mimetype": "text/x-python",
   "name": "python",
   "nbconvert_exporter": "python",
   "pygments_lexer": "ipython3",
   "version": "3.10.6"
  }
 },
 "nbformat": 4,
 "nbformat_minor": 5
}
