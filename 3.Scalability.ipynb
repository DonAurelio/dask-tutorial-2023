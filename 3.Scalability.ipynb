{
 "cells": [
  {
   "cell_type": "markdown",
   "id": "f1aace1b-44a0-4f40-acd1-9bf395bc4ce9",
   "metadata": {},
   "source": [
    "<a href=\"https://www.dask.org/\" target=\"_blank\">\n",
    "<img src=\"http://dask.readthedocs.io/en/latest/_images/dask_horizontal.svg\"\n",
    "     align=\"right\"\n",
    "     width=\"30%\"\n",
    "     alt=\"Dask logo\\\">\n",
    "</a>\n",
    "\n",
    "# Scalability\n",
    "\n",
    "In this notebook, we will explain how Dask achieves scalability from multi-core local machines to large distributed clusters in the cloud for conducting large scale data analytics.\n",
    "\n",
    "**Introduction**\n",
    "\n",
    "Dask employs the **client-server model** to map computations to multiple cores in a single machine or distributed clusters. \n",
    "\n",
    "* In the client-side, a Python/Notebook application can send tasks (computations) to a **Dask Cluster**.\n",
    "* A Dask Cluster is composed of a **scheduler** and the **workers**.\n",
    "* The scheduler reacives tasks (computations) and decide which worker will perform every task.\n",
    "* The workers perform computations and store/share results with other workers.\n",
    "\n",
    "<center>\n",
    "<img src=\"img/dask-cluster.png\" width=\"80%\"/>\n",
    "</center>\n",
    "<center>\n",
    "<a href=\"https://tutorial.dask.org/00_overview.html\" target=\"_blank\" width=\"30%\"> Reference: Dask Tutorial Documentation </a>\n",
    "</center>\n",
    "\n",
    "**Content**\n",
    "\n",
    "1. Cluster in a single local machine.\n",
    "2. Cluster in a High Performance Computing System.\n",
    "3. Cluster in a Cloud Computing System.\n",
    "\n",
    "**Learning outcomes**"
   ]
  },
  {
   "cell_type": "markdown",
   "id": "d9c12917-9c62-4aa9-a5d3-7e2fc7f4dd9e",
   "metadata": {},
   "source": [
    "## 1. Cluster in a Local Machine\n",
    "\n",
    "You can define a local cluster in two ways [2].\n",
    "\n",
    "* Implicitly, by using Dask default local cluster.\n",
    "* Explicitly by defining a Dask local cluster by yourself."
   ]
  },
  {
   "cell_type": "markdown",
   "id": "575a07c3-3324-4596-b6d2-93012093c575",
   "metadata": {},
   "source": [
    "__1. Import required libraries, define required variables and functions__"
   ]
  },
  {
   "cell_type": "code",
   "execution_count": null,
   "id": "cf7f682f-1c81-4ad4-94ba-c0977e8c38f6",
   "metadata": {},
   "outputs": [],
   "source": [
    "import dask.array as da"
   ]
  },
  {
   "cell_type": "code",
   "execution_count": null,
   "id": "4aef68e1-8e5b-40e4-874f-22c691bd5b52",
   "metadata": {},
   "outputs": [],
   "source": [
    "x = da.random.random((10000,10000), chunks=(1000,1000))\n",
    "x"
   ]
  },
  {
   "cell_type": "markdown",
   "id": "444d1979-78ea-46ce-a1eb-3b84633951a5",
   "metadata": {},
   "source": [
    "__2. Visualize the computations to be performed per array chunk.__"
   ]
  },
  {
   "cell_type": "code",
   "execution_count": null,
   "id": "49d6d5d7-0abe-4279-a3ae-9fb0ae0c8171",
   "metadata": {},
   "outputs": [],
   "source": [
    "x.visualize() "
   ]
  },
  {
   "cell_type": "markdown",
   "id": "665feb6a-008e-4638-a4eb-3cdc1343471f",
   "metadata": {},
   "source": [
    "__3. Compute the result__"
   ]
  },
  {
   "cell_type": "code",
   "execution_count": null,
   "id": "223fb306-1c85-45e1-929b-df0c359de719",
   "metadata": {},
   "outputs": [],
   "source": [
    "x.compute() # This uses Dask default local cluster"
   ]
  },
  {
   "attachments": {},
   "cell_type": "markdown",
   "id": "3ec3d35a-ff94-4225-8874-353d4d67e7b2",
   "metadata": {},
   "source": [
    "## 2. Cluster in a High Performance Computing System"
   ]
  },
  {
   "cell_type": "markdown",
   "id": "8e9f30e6-f3b2-43a2-8317-9dbd1b41ae28",
   "metadata": {},
   "source": [
    "## 3. Cluster in a Cloud Computing System"
   ]
  },
  {
   "cell_type": "markdown",
   "id": "f307da9a-d90b-4cfa-adc2-89aa968efcfd",
   "metadata": {},
   "source": [
    "# [Excerise 3](labs/Lab3.ipynb)"
   ]
  },
  {
   "cell_type": "markdown",
   "id": "a7b617f9-78b6-46bb-a14b-0b722979cc1d",
   "metadata": {},
   "source": [
    "# References\n",
    "\n",
    "1. Deploy Dask Clusters - https://docs.dask.org/en/stable/deploying.html\n",
    "2. Single-Machine Scheduler - https://www.devdoc.net/python/dask-2.23.0-doc/setup/single-machine.html\n",
    "3. Getting Started with Dask: A Dask Setup Guide - https://www.youtube.com/watch?v=TQM9zIBzNBo&t=82s"
   ]
  }
 ],
 "metadata": {
  "kernelspec": {
   "display_name": "Python 3 (ipykernel)",
   "language": "python",
   "name": "python3"
  },
  "language_info": {
   "codemirror_mode": {
    "name": "ipython",
    "version": 3
   },
   "file_extension": ".py",
   "mimetype": "text/x-python",
   "name": "python",
   "nbconvert_exporter": "python",
   "pygments_lexer": "ipython3",
   "version": "3.10.6"
  }
 },
 "nbformat": 4,
 "nbformat_minor": 5
}
