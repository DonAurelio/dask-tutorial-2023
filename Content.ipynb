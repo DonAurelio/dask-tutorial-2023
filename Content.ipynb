{
 "cells": [
  {
   "cell_type": "markdown",
   "id": "f1aace1b-44a0-4f40-acd1-9bf395bc4ce9",
   "metadata": {},
   "source": [
    "<img src=\"http://dask.readthedocs.io/en/latest/_images/dask_horizontal.svg\"\n",
    "     align=\"right\"\n",
    "     width=\"30%\"\n",
    "     alt=\"Dask logo\\\">\n",
    "\n",
    "# Conetent\n",
    "\n",
    "**Fundamentals**\n",
    "\n",
    "0. [Introduction](0.Introduction.ipynb)\n",
    "1. [Parallel programmming](1.Parallel_programming.ipynb)\n",
    "2. [Lab 1: Parallel programming](labs/Lab1.ipynb)\n",
    "3. Lazy evaluation\n",
    "4. Lab 2: Lazy evaluation\n",
    "5. Scalability (Clusters)\n",
    "6. Lab 3: Scalability (Clusters)\n",
    "7. Dask Array\n",
    "8. Lab 4: Dask Array\n",
    "9. Dask DataFrame\n",
    "10. Lab 5: Dask DataFrame\n",
    "11. Dask Bag\n",
    "12. Lab 6: Dask Bag\n",
    "13. Dask Delayed\n",
    "14. Lab 7: Dask Delayed\n",
    "\n",
    "**Real world applications**\n",
    "\n",
    "1. Satellite image processing"
   ]
  }
 ],
 "metadata": {
  "kernelspec": {
   "display_name": "Python 3 (ipykernel)",
   "language": "python",
   "name": "python3"
  },
  "language_info": {
   "codemirror_mode": {
    "name": "ipython",
    "version": 3
   },
   "file_extension": ".py",
   "mimetype": "text/x-python",
   "name": "python",
   "nbconvert_exporter": "python",
   "pygments_lexer": "ipython3",
   "version": "3.10.6"
  }
 },
 "nbformat": 4,
 "nbformat_minor": 5
}
