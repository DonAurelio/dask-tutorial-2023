{
 "cells": [
  {
   "attachments": {},
   "cell_type": "markdown",
   "id": "f1aace1b-44a0-4f40-acd1-9bf395bc4ce9",
   "metadata": {},
   "source": [
    "<a href=\"https://www.dask.org/\">\n",
    "<img src=\"http://dask.readthedocs.io/en/latest/_images/dask_horizontal.svg\"\n",
    "     align=\"right\"\n",
    "     width=\"30%\"\n",
    "     alt=\"Dask logo\\\">\n",
    "</a>\n",
    "\n",
    "# Parallelize your Python code\n",
    "\n",
    "Dask is an open-source Python library for parallel/distributed computing. Dask scales Python code from multi-core local machines to large distributed clusters in the cloud [1].\n",
    "Dask extend other community projects like Numpy, Pandas, and Scikit-Learn so that thay can take advantage of parallel/distributed computing.\n",
    "\n",
    "# [Dask use cases](https://stories.dask.org/en/latest/) \n",
    "\n",
    "* Sidewalk Labs: Civic Modeling\n",
    "* Genome Sequencing for Mosquitos\n",
    "* Full Spectrum: Credit and Banking\n",
    "* IceCube: Detecting Cosmic Rays\n",
    "* Pangeo: Earth Science\n",
    "* NCAR: Hydrological Modeling\n",
    "* Mobile Network Modeling\n",
    "* Satellite Imagery Processing\n",
    "* Prefect: Production Workflows\n",
    "* Discovering biomarkers for rare diseases in blood samples\n",
    "\n",
    "# Content\n",
    "\n",
    "**Module 1. Fundamentals**\n",
    "\n",
    "Provide a basic understanding of how Dask works.\n",
    "\n",
    "1. [Parallel programmming](1.Parallel_programming.ipynb)\n",
    "2. [Lab 1: Parallel programming](labs/Lab1.ipynb)\n",
    "3. [Scalability](2.Scalability.ipynb)\n",
    "4. [Lab 2: Scalability](labs/Lab2.ipynb)\n",
    "6. [Performance](3.Performance.ipynb)\n",
    "7. Lab 3: Performance\n",
    "\n",
    "**Module 2. Use cases**\n",
    "\n",
    "1. [Use case](4.Use_case.ipynb)\n",
    "2. [Lab 4: Use case](labs/Lab4.ipynb)\n",
    "\n",
    "# Additional Resources\n",
    "\n",
    "1. [Dask Documentation](https://docs.dask.org/en/stable/)\n",
    "2. [Dask Examples Documentation](https://examples.dask.org/bag.html)\n",
    "\n",
    "# References\n",
    "\n",
    "1. Dask (software) - https://en.wikipedia.org/wiki/Dask_(software)"
   ]
  }
 ],
 "metadata": {
  "kernelspec": {
   "display_name": "Python 3 (ipykernel)",
   "language": "python",
   "name": "python3"
  },
  "language_info": {
   "codemirror_mode": {
    "name": "ipython",
    "version": 3
   },
   "file_extension": ".py",
   "mimetype": "text/x-python",
   "name": "python",
   "nbconvert_exporter": "python",
   "pygments_lexer": "ipython3",
   "version": "3.10.6"
  }
 },
 "nbformat": 4,
 "nbformat_minor": 5
}
