{
 "cells": [
  {
   "cell_type": "markdown",
   "id": "f1aace1b-44a0-4f40-acd1-9bf395bc4ce9",
   "metadata": {},
   "source": [
    "<a href=\"https://www.dask.org/\" target=\"_blank\">\n",
    "<img src=\"http://dask.readthedocs.io/en/latest/_images/dask_horizontal.svg\"\n",
    "     align=\"right\"\n",
    "     width=\"30%\"\n",
    "     alt=\"Dask logo\\\">\n",
    "</a>\n",
    "\n",
    "# Out of core computations\n",
    "\n",
    "In this notebook, we will explain how Dask enables **out-of-core computations**, that is, the ability to process datasets larger than computer's memory.\n",
    "\n",
    "**Content**\n",
    "\n",
    "1. Eager evaluation\n",
    "2. Lazy evaluation\n",
    "3. Out-of-core computation\n",
    "\n",
    "**Learning outcomes**\n",
    "* Define eager evaluation\n",
    "* Define lazy evaluation.\n",
    "* Describe how lazy evaluation and domain decomposition enables out-of-core computations."
   ]
  },
  {
   "cell_type": "markdown",
   "id": "d9c12917-9c62-4aa9-a5d3-7e2fc7f4dd9e",
   "metadata": {},
   "source": [
    "## 1. Eager evaluation\n",
    "\n",
    "Python computations are by default **eagerly evaluated**, i.e., as soon as you define the computation, Python evaluates it and execute it. This means that all the values required in the computation are loaded into the main memory and the result of the computation is calculated. You can see this behabiour in the subsequent cells. Be attentive of the memory usage on each of the following computation."
   ]
  },
  {
   "cell_type": "markdown",
   "id": "e7afc5e0-d533-431a-a2f7-6003dec49768",
   "metadata": {},
   "source": [
    "__1. Import required libraries, define required variables and functions__\n",
    "\n",
    "_Hint: memory_profiler is a set of notebook magics that allow memory usage measurement_"
   ]
  },
  {
   "cell_type": "code",
   "execution_count": null,
   "id": "834481a9-1ede-4bd2-b064-c2d3d7dae959",
   "metadata": {},
   "outputs": [],
   "source": [
    "%load_ext memory_profiler\n",
    "\n",
    "import numpy as np\n",
    "\n",
    "shape = (10000,10000)"
   ]
  },
  {
   "cell_type": "markdown",
   "id": "5cc31c00-7145-4c1f-98f8-eea5caa77cbf",
   "metadata": {},
   "source": [
    "__2. Create array and measure memory usage__\n",
    "\n",
    "_Hint: the `%%memit` magic measures, the peack memory usage and how much the memory usage was incremented as a consequence of running the cell_\n",
    "\n",
    "_Questions: How much data was loaded into the main memory once the `x` and `y` arrays were created? Is it the data being loaded eagerly?_ "
   ]
  },
  {
   "cell_type": "code",
   "execution_count": null,
   "id": "397c4e6a-805c-4335-b647-49bc8f1a55d8",
   "metadata": {},
   "outputs": [],
   "source": [
    "%%memit\n",
    "\n",
    "x = np.ones(shape=shape)\n",
    "y = np.ones(shape=shape)"
   ]
  },
  {
   "cell_type": "markdown",
   "id": "ee167d31-3df5-4ba3-9626-7b014cf90726",
   "metadata": {},
   "source": [
    "__3. Perform an arithmetic operation and measure memory usage__\n",
    "\n",
    "_Questions: How much data was loaded into the main memory once the `z` array was created? Is it the data being loaded eagerly?_"
   ]
  },
  {
   "cell_type": "code",
   "execution_count": null,
   "id": "4871e194-ff39-4c8c-a14c-f677bddaa700",
   "metadata": {},
   "outputs": [],
   "source": [
    "%%memit\n",
    "\n",
    "z = x * y\n",
    "z"
   ]
  },
  {
   "attachments": {},
   "cell_type": "markdown",
   "id": "3ec3d35a-ff94-4225-8874-353d4d67e7b2",
   "metadata": {},
   "source": [
    "# 2. Lazy evaluation\n",
    "\n",
    "Dask, as opposed to the default Python execution behavior, uses **lazy evaluation**, i.e, as soon as you define the computation, Dask evaluates it but it **DO NOT** execute it. The later means that the data is not being loaded into memory until it is needed. Be attentive of the memory usage on each of the following computation."
   ]
  },
  {
   "cell_type": "markdown",
   "id": "91fc55cb-a26c-46db-be79-36e35d12229b",
   "metadata": {},
   "source": [
    "__1. Import required libraries, define required variables and functions__"
   ]
  },
  {
   "cell_type": "code",
   "execution_count": null,
   "id": "434370e3-c5e2-4861-9433-a6721bd22f24",
   "metadata": {},
   "outputs": [],
   "source": [
    "%load_ext memory_profiler\n",
    "\n",
    "import dask.array as da\n",
    "\n",
    "shape = (10000,10000)\n",
    "chunks = (1000,1000)"
   ]
  },
  {
   "cell_type": "markdown",
   "id": "285959fd-7856-49d1-93ee-936f72e8f03d",
   "metadata": {},
   "source": [
    "__2. Create \"lazy\" Dask Arrays and measure their memory usage__\n",
    "\n",
    "_Hint: Arrays were evaluated, but the data they hold WAS NOT created yet, it will be created once required._\n",
    "\n",
    "_Questions: How much data was loaded into the main memory once the `x` and `y` arrays were evaluated?_"
   ]
  },
  {
   "cell_type": "code",
   "execution_count": null,
   "id": "9632a76d-aedb-4f42-aeae-c40b5ec12fdd",
   "metadata": {},
   "outputs": [],
   "source": [
    "%%memit\n",
    "\n",
    "x = da.ones(shape=shape, chunks=chunks)\n",
    "y = da.ones(shape=shape, chunks=chunks)"
   ]
  },
  {
   "cell_type": "markdown",
   "id": "50fc3496-d43d-4624-a768-75bbff7cfd6d",
   "metadata": {},
   "source": [
    "__3. Perform a \"lazy\" arithmetic operation and measure its memory usage__\n",
    "\n",
    "_Hint: Again, the computation is evaluated, but the result was not computed yet, it will be computed once required._\n"
   ]
  },
  {
   "cell_type": "code",
   "execution_count": null,
   "id": "c48fcd27-860e-4300-ae6d-43c96f2a0793",
   "metadata": {},
   "outputs": [],
   "source": [
    "%%memit\n",
    "\n",
    "z = (x**2) + (y**2)\n",
    "z"
   ]
  },
  {
   "cell_type": "markdown",
   "id": "af439123-e627-40c5-a01d-fd75fdbeaa50",
   "metadata": {},
   "source": [
    "__4. Compute the result__ of the equation and measure its memory usage.\n",
    "\n",
    "_Hint: Now, the result is required, then all the computations including, array creation, and arrays operation (previuos equiation) are computed._"
   ]
  },
  {
   "cell_type": "code",
   "execution_count": null,
   "id": "b85b485c-c81c-4655-b97b-020adfba88d4",
   "metadata": {},
   "outputs": [],
   "source": [
    "%%memit\n",
    "\n",
    "z.compute()"
   ]
  },
  {
   "cell_type": "markdown",
   "id": "8e9f30e6-f3b2-43a2-8317-9dbd1b41ae28",
   "metadata": {},
   "source": [
    "## 3. Out-of-core computation\n",
    "\n",
    "Dask achieves out of core computations by using **lazy evaluation**, **domain decomposition**, and **task scheduling**. \n",
    "\n",
    "Example: Suppose you need to process a 20 GiB array, and your computer only has 4 GiB of memory.\n",
    "\n",
    "* If you use Numpy, the array will be loaded eagerly, then the array creation will fail since the whole array does not fit in memory.\n",
    "* If you use Dask Array, the array will be **lazily loaded**, in addition, the array will be partitioned into chunks, **domain decomposition**.\n",
    "* Finally, Dask will load and process chunk per chunk. Since every chunk is just 2 GiB in memory, it will perfectly fit into memory. Dask determine which chunk to load and process using **task scheduling**.\n",
    "\n",
    "In the following examples, you will take a look on how **lazy evaluation**, **domain decomposition**, and **task scheduling** enable out-of-core computation."
   ]
  },
  {
   "cell_type": "markdown",
   "id": "f7e7fe86-4e49-41b0-9eb0-7f6d123f298f",
   "metadata": {},
   "source": [
    "__1. Import required libraries, define required variables and functions__"
   ]
  },
  {
   "cell_type": "code",
   "execution_count": 6,
   "id": "b129b192-8953-4f58-b33b-6449758d1482",
   "metadata": {},
   "outputs": [],
   "source": [
    "import numpy as np\n",
    "import dask.array as da\n",
    "\n",
    "# This will be the size of a 74.5 GiB Array \n",
    "shape = (100000,100000)\n",
    "chunks = (5000,5000)"
   ]
  },
  {
   "cell_type": "markdown",
   "id": "3e2652a0-8bd2-4988-ba07-69eea78bb28e",
   "metadata": {},
   "source": [
    "__2. Create two large arrays__\n",
    "\n",
    "_Hint: if your computer memory is lower than 74.5 GiB **you will get a memory error**. Since the arrays are too large to fit into the main memory._\n",
    "\n",
    "_Question: Are these arrays are eagerly or lazily evaluated? Do you think is even possible to process a 74.5 GiB dataset in a computer with 4 GiB of memory?._"
   ]
  },
  {
   "cell_type": "code",
   "execution_count": null,
   "id": "92a95d15-95bc-428d-b1c8-168c67ef7a67",
   "metadata": {},
   "outputs": [],
   "source": [
    "x = np.ones(shape=shape)\n",
    "y = np.ones(shape=shape)\n",
    "y"
   ]
  },
  {
   "cell_type": "markdown",
   "id": "fde6e6c2-28e6-42e5-8c2b-e56d54555279",
   "metadata": {},
   "source": [
    "__2. Now the same large arrays using Dask__\n",
    "\n",
    "_Question: Are these arrays are eagerly or lazily evaluated? Did you get the same memory error as before? Why Dask can load a 74.5 GiB dataset in a computer with 4 GiB of memory?._"
   ]
  },
  {
   "cell_type": "code",
   "execution_count": 7,
   "id": "64328a68-5c0f-47a2-9393-ad6d59270f1c",
   "metadata": {},
   "outputs": [
    {
     "data": {
      "text/html": [
       "<table>\n",
       "    <tr>\n",
       "        <td>\n",
       "            <table style=\"border-collapse: collapse;\">\n",
       "                <thead>\n",
       "                    <tr>\n",
       "                        <td> </td>\n",
       "                        <th> Array </th>\n",
       "                        <th> Chunk </th>\n",
       "                    </tr>\n",
       "                </thead>\n",
       "                <tbody>\n",
       "                    \n",
       "                    <tr>\n",
       "                        <th> Bytes </th>\n",
       "                        <td> 74.51 GiB </td>\n",
       "                        <td> 190.73 MiB </td>\n",
       "                    </tr>\n",
       "                    \n",
       "                    <tr>\n",
       "                        <th> Shape </th>\n",
       "                        <td> (100000, 100000) </td>\n",
       "                        <td> (5000, 5000) </td>\n",
       "                    </tr>\n",
       "                    <tr>\n",
       "                        <th> Dask graph </th>\n",
       "                        <td colspan=\"2\"> 400 chunks in 1 graph layer </td>\n",
       "                    </tr>\n",
       "                    <tr>\n",
       "                        <th> Data type </th>\n",
       "                        <td colspan=\"2\"> float64 numpy.ndarray </td>\n",
       "                    </tr>\n",
       "                </tbody>\n",
       "            </table>\n",
       "        </td>\n",
       "        <td>\n",
       "        <svg width=\"170\" height=\"170\" style=\"stroke:rgb(0,0,0);stroke-width:1\" >\n",
       "\n",
       "  <!-- Horizontal lines -->\n",
       "  <line x1=\"0\" y1=\"0\" x2=\"120\" y2=\"0\" style=\"stroke-width:2\" />\n",
       "  <line x1=\"0\" y1=\"6\" x2=\"120\" y2=\"6\" />\n",
       "  <line x1=\"0\" y1=\"12\" x2=\"120\" y2=\"12\" />\n",
       "  <line x1=\"0\" y1=\"18\" x2=\"120\" y2=\"18\" />\n",
       "  <line x1=\"0\" y1=\"24\" x2=\"120\" y2=\"24\" />\n",
       "  <line x1=\"0\" y1=\"30\" x2=\"120\" y2=\"30\" />\n",
       "  <line x1=\"0\" y1=\"36\" x2=\"120\" y2=\"36\" />\n",
       "  <line x1=\"0\" y1=\"42\" x2=\"120\" y2=\"42\" />\n",
       "  <line x1=\"0\" y1=\"48\" x2=\"120\" y2=\"48\" />\n",
       "  <line x1=\"0\" y1=\"54\" x2=\"120\" y2=\"54\" />\n",
       "  <line x1=\"0\" y1=\"60\" x2=\"120\" y2=\"60\" />\n",
       "  <line x1=\"0\" y1=\"66\" x2=\"120\" y2=\"66\" />\n",
       "  <line x1=\"0\" y1=\"72\" x2=\"120\" y2=\"72\" />\n",
       "  <line x1=\"0\" y1=\"78\" x2=\"120\" y2=\"78\" />\n",
       "  <line x1=\"0\" y1=\"84\" x2=\"120\" y2=\"84\" />\n",
       "  <line x1=\"0\" y1=\"90\" x2=\"120\" y2=\"90\" />\n",
       "  <line x1=\"0\" y1=\"96\" x2=\"120\" y2=\"96\" />\n",
       "  <line x1=\"0\" y1=\"102\" x2=\"120\" y2=\"102\" />\n",
       "  <line x1=\"0\" y1=\"108\" x2=\"120\" y2=\"108\" />\n",
       "  <line x1=\"0\" y1=\"120\" x2=\"120\" y2=\"120\" style=\"stroke-width:2\" />\n",
       "\n",
       "  <!-- Vertical lines -->\n",
       "  <line x1=\"0\" y1=\"0\" x2=\"0\" y2=\"120\" style=\"stroke-width:2\" />\n",
       "  <line x1=\"6\" y1=\"0\" x2=\"6\" y2=\"120\" />\n",
       "  <line x1=\"12\" y1=\"0\" x2=\"12\" y2=\"120\" />\n",
       "  <line x1=\"18\" y1=\"0\" x2=\"18\" y2=\"120\" />\n",
       "  <line x1=\"24\" y1=\"0\" x2=\"24\" y2=\"120\" />\n",
       "  <line x1=\"30\" y1=\"0\" x2=\"30\" y2=\"120\" />\n",
       "  <line x1=\"36\" y1=\"0\" x2=\"36\" y2=\"120\" />\n",
       "  <line x1=\"42\" y1=\"0\" x2=\"42\" y2=\"120\" />\n",
       "  <line x1=\"48\" y1=\"0\" x2=\"48\" y2=\"120\" />\n",
       "  <line x1=\"54\" y1=\"0\" x2=\"54\" y2=\"120\" />\n",
       "  <line x1=\"60\" y1=\"0\" x2=\"60\" y2=\"120\" />\n",
       "  <line x1=\"66\" y1=\"0\" x2=\"66\" y2=\"120\" />\n",
       "  <line x1=\"72\" y1=\"0\" x2=\"72\" y2=\"120\" />\n",
       "  <line x1=\"78\" y1=\"0\" x2=\"78\" y2=\"120\" />\n",
       "  <line x1=\"84\" y1=\"0\" x2=\"84\" y2=\"120\" />\n",
       "  <line x1=\"90\" y1=\"0\" x2=\"90\" y2=\"120\" />\n",
       "  <line x1=\"96\" y1=\"0\" x2=\"96\" y2=\"120\" />\n",
       "  <line x1=\"102\" y1=\"0\" x2=\"102\" y2=\"120\" />\n",
       "  <line x1=\"108\" y1=\"0\" x2=\"108\" y2=\"120\" />\n",
       "  <line x1=\"120\" y1=\"0\" x2=\"120\" y2=\"120\" style=\"stroke-width:2\" />\n",
       "\n",
       "  <!-- Colored Rectangle -->\n",
       "  <polygon points=\"0.0,0.0 120.0,0.0 120.0,120.0 0.0,120.0\" style=\"fill:#8B4903A0;stroke-width:0\"/>\n",
       "\n",
       "  <!-- Text -->\n",
       "  <text x=\"60.000000\" y=\"140.000000\" font-size=\"1.0rem\" font-weight=\"100\" text-anchor=\"middle\" >100000</text>\n",
       "  <text x=\"140.000000\" y=\"60.000000\" font-size=\"1.0rem\" font-weight=\"100\" text-anchor=\"middle\" transform=\"rotate(-90,140.000000,60.000000)\">100000</text>\n",
       "</svg>\n",
       "        </td>\n",
       "    </tr>\n",
       "</table>"
      ],
      "text/plain": [
       "dask.array<ones_like, shape=(100000, 100000), dtype=float64, chunksize=(5000, 5000), chunktype=numpy.ndarray>"
      ]
     },
     "execution_count": 7,
     "metadata": {},
     "output_type": "execute_result"
    }
   ],
   "source": [
    "x = da.ones(shape=shape, chunks=chunks)\n",
    "y = da.ones(shape=shape, chunks=chunks)\n",
    "y"
   ]
  },
  {
   "cell_type": "markdown",
   "id": "32878aa8-802e-4617-ba91-5740503cf370",
   "metadata": {},
   "source": [
    "__4. Compute the result__ of the equation using Dask.\n",
    "\n",
    "_Question: How Dask was able to process a 74.5 GiB dataset in a computer with 4 GiB of memory?._"
   ]
  },
  {
   "cell_type": "code",
   "execution_count": null,
   "id": "7cfd51d9-cb95-4678-8da5-1b0e965bef0c",
   "metadata": {},
   "outputs": [],
   "source": [
    "z = (x**2) + (y**2)\n",
    "z"
   ]
  },
  {
   "cell_type": "markdown",
   "id": "cd2cf4db-155f-4afa-98a9-800844197af9",
   "metadata": {},
   "source": [
    "__4. Visualize the computations to be performed per array chunk.__\n",
    "\n",
    "_Hint: `visualize` display the graph of the computations to be performed in the array chunks_"
   ]
  },
  {
   "cell_type": "code",
   "execution_count": null,
   "id": "53566468-4426-405a-b7d7-a8e778ec41a1",
   "metadata": {},
   "outputs": [],
   "source": [
    "z.visualize()"
   ]
  },
  {
   "cell_type": "markdown",
   "id": "80aea314-4c93-47b3-92c0-85facd35f7bd",
   "metadata": {},
   "source": [
    "__5. Compute the result__"
   ]
  },
  {
   "cell_type": "code",
   "execution_count": null,
   "id": "2775b723-6f7d-4226-834f-4b879d8ef842",
   "metadata": {},
   "outputs": [],
   "source": [
    "z.compute()"
   ]
  },
  {
   "cell_type": "markdown",
   "id": "391cca82-cbed-4974-bb10-541d9ab4ee2a",
   "metadata": {},
   "source": [
    "# [Excerise 2](labs/Lab2.ipynb)"
   ]
  }
 ],
 "metadata": {
  "kernelspec": {
   "display_name": "Python 3 (ipykernel)",
   "language": "python",
   "name": "python3"
  },
  "language_info": {
   "codemirror_mode": {
    "name": "ipython",
    "version": 3
   },
   "file_extension": ".py",
   "mimetype": "text/x-python",
   "name": "python",
   "nbconvert_exporter": "python",
   "pygments_lexer": "ipython3",
   "version": "3.10.6"
  }
 },
 "nbformat": 4,
 "nbformat_minor": 5
}
