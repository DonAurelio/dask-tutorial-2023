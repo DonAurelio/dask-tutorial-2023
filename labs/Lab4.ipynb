{
 "cells": [
  {
   "cell_type": "markdown",
   "id": "f1aace1b-44a0-4f40-acd1-9bf395bc4ce9",
   "metadata": {},
   "source": [
    "<a href=\"https://www.dask.org/\" target=\"_blank\">\n",
    "<img src=\"http://dask.readthedocs.io/en/latest/_images/dask_horizontal.svg\"\n",
    "     align=\"right\"\n",
    "     width=\"30%\"\n",
    "     alt=\"Dask logo\\\">\n",
    "</a>\n",
    "\n",
    "# Lab 4: Satellite Image Processing\n",
    "\n",
    "This notebook will guide us through a practical use case example of Dask in satellite image processing.\n",
    "\n",
    "__Enhanced Vegetation Index (EVI)__\n",
    "\n",
    "The EVI index is similar to the NDVI; However, it corrects for some atmospheric conditions and is more sensitive in areas with high vegetation density. The equation that describes the calculation of this index is shown below:\n",
    "\n",
    "`2 * ((NIR - RED) / (NIR + 6 * RED - 7.5 * BLUE + 10000))`\n",
    "\n",
    "\n",
    "__Activity__\n",
    "\n",
    "1. Perform the same NDVI analysis process, but in this case for the EVI calculation.\n",
    "\n",
    "__References__\n",
    "\n",
    "1. [Sentinel 2 bands reference](https://gisgeography.com/sentinel-2-bands-combinations/)"
   ]
  }
 ],
 "metadata": {
  "kernelspec": {
   "display_name": "Python 3 (ipykernel)",
   "language": "python",
   "name": "python3"
  },
  "language_info": {
   "codemirror_mode": {
    "name": "ipython",
    "version": 3
   },
   "file_extension": ".py",
   "mimetype": "text/x-python",
   "name": "python",
   "nbconvert_exporter": "python",
   "pygments_lexer": "ipython3",
   "version": "3.11.5"
  }
 },
 "nbformat": 4,
 "nbformat_minor": 5
}
