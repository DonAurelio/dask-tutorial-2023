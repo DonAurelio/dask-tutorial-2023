{
 "cells": [
  {
   "cell_type": "markdown",
   "id": "f1aace1b-44a0-4f40-acd1-9bf395bc4ce9",
   "metadata": {},
   "source": [
    "<img src=\"http://dask.readthedocs.io/en/latest/_images/dask_horizontal.svg\"\n",
    "     align=\"right\"\n",
    "     width=\"30%\"\n",
    "     alt=\"Dask logo\\\">\n",
    "\n",
    "# Lab 2: Out of core computation\n",
    "\n",
    "In this mini-lab, you will face the problem of processing large arrays that do not fit into computer's main memory. Then, you will use Dask to solve the previously mentioned problem. Once you finish this mini-lab, you will be able to understand how the concept out-of-core computation works."
   ]
  },
  {
   "cell_type": "markdown",
   "id": "8e9f30e6-f3b2-43a2-8317-9dbd1b41ae28",
   "metadata": {},
   "source": [
    "**Problem**. Consider the following equation for large arrays of shape `(100000,100000)`. Suppose $x$ and $y$ are both matrices of ones.\n",
    "\n",
    "$$\n",
    "  z = (x^2 + y^2) * (x^2 - y^2)\n",
    "$$\n",
    "\n",
    "**Activities**\n",
    "\n",
    "_Part 1. With Numpy_\n",
    "\n",
    "1. Create the large arrays $x$ and $y$ using `numpy.ones`.\n",
    "2. Write the equation and find the value of $z$.\n",
    "\n",
    "_Parte 2. With Dask_\n",
    "\n",
    "3. Create the large arrays $x$ and $y$ using `dask.array.ones`\n",
    "4. Write the equation and find the value of $z$, using Dask.\n",
    "\n",
    "**Questions**\n",
    "\n",
    "1. Where you able to create the large arrays using `numpy.ones`? Why?\n",
    "2. How much memory is used when creating large arrays using `numpy.ones`?\n",
    "3. Where you able to create the large arrays using `dask.array.ones`? Why?\n",
    "4. How much memory is used when creating large arrays using `dask.array.ones`?"
   ]
  },
  {
   "cell_type": "markdown",
   "id": "e3a88910-cd9e-46cb-962d-74ffcdfbd483",
   "metadata": {},
   "source": [
    "### Part 1. With Numpy"
   ]
  },
  {
   "cell_type": "markdown",
   "id": "e8d9b0cf-ba04-4df9-9753-12928100278d",
   "metadata": {},
   "source": [
    "__1. Import required libraries, define required variables and functions__"
   ]
  },
  {
   "cell_type": "code",
   "execution_count": null,
   "id": "30026725-5461-42e4-b719-fb555a7e9ef8",
   "metadata": {},
   "outputs": [],
   "source": [
    "import numpy as np \n",
    "\n",
    "# Size of the array\n",
    "shape = (1000,1000)"
   ]
  },
  {
   "cell_type": "markdown",
   "id": "4a0202c7-51e5-48a8-8263-d46ddbce5732",
   "metadata": {},
   "source": [
    "__2. Create arrays__\n",
    "\n",
    "_Hint: Use `numpy.ones`._"
   ]
  },
  {
   "cell_type": "code",
   "execution_count": null,
   "id": "c87e8c75-109a-4fbc-8fcd-bb40d6f8a3af",
   "metadata": {},
   "outputs": [],
   "source": [
    "%%memit\n",
    "\n",
    "x = # ...\n",
    "y = # ..."
   ]
  },
  {
   "cell_type": "markdown",
   "id": "ec8c429c-7c73-44b4-97c3-99d5bc8aae34",
   "metadata": {},
   "source": [
    "__2. Write the equation to find the value of $z$__"
   ]
  },
  {
   "cell_type": "code",
   "execution_count": null,
   "id": "0f1f7e29-4f62-42a0-ac06-dc627d866b6c",
   "metadata": {},
   "outputs": [],
   "source": [
    "%%memit\n",
    "\n",
    "z = # ...\n",
    "z"
   ]
  },
  {
   "cell_type": "markdown",
   "id": "d13890e4-34f4-4f6c-be16-715a0b88fe5c",
   "metadata": {},
   "source": [
    "### Part 2. With Dask\n",
    "\n",
    "*Hint: Copy useful code snippets from the [Out of core computations](../2.Out_of_core_computations.ipynb) notebook.*"
   ]
  },
  {
   "cell_type": "markdown",
   "id": "e9850350-94c1-4f13-b0c5-e50f6ef3e0a3",
   "metadata": {},
   "source": [
    "__1. Import required libraries, define required variables and functions__\n",
    "\n",
    "_Hint: Import `dask.array`, define `shape`, use chunk size `chunks = (10000,10000)`._"
   ]
  },
  {
   "cell_type": "code",
   "execution_count": null,
   "id": "81ff5bb4-591e-40e6-86fe-8d8712164d28",
   "metadata": {},
   "outputs": [],
   "source": [
    "# ...\n",
    "\n",
    "shape = # ...\n",
    "chunks = # ..."
   ]
  },
  {
   "cell_type": "markdown",
   "id": "5aaecc13-80fa-47d8-9844-373e382d7706",
   "metadata": {},
   "source": [
    "__2. Create the first array__ using `Dask Array` and perform domain decomposition. The `chucks` param tell Dask the size of the chuck that will be considered for the decomposition. "
   ]
  },
  {
   "cell_type": "code",
   "execution_count": null,
   "id": "016fe855-dbef-4939-b661-61a606a0767a",
   "metadata": {},
   "outputs": [],
   "source": [
    "x = # ...\n",
    "x"
   ]
  },
  {
   "cell_type": "markdown",
   "id": "d30bbd12-1d73-49e7-adde-1375b49d210d",
   "metadata": {},
   "source": [
    "__3. Create the second array__ using `Dask Array` and perform domain decomposition. The `chucks` param tell Dask the size of the chuck that will be considered for the decomposition. "
   ]
  },
  {
   "cell_type": "code",
   "execution_count": null,
   "id": "c7d7628e-eadf-411d-af0c-3d53fd98b591",
   "metadata": {},
   "outputs": [],
   "source": [
    "y = # ...\n",
    "y"
   ]
  },
  {
   "cell_type": "markdown",
   "id": "d76c1bdd-3ae3-432e-a981-842e5cf4997c",
   "metadata": {},
   "source": [
    "__3. Write the equation to find the value of $z$__\n",
    "\n",
    "*Hint: you just need to write the equation $z = (x^2 + y^2) * (x^2 - y^2)$ in Python langauge*"
   ]
  },
  {
   "cell_type": "code",
   "execution_count": null,
   "id": "99af5142-6831-45f3-ba09-f021b384b5dd",
   "metadata": {},
   "outputs": [],
   "source": [
    "z = # ...\n",
    "z"
   ]
  },
  {
   "cell_type": "markdown",
   "id": "fcc37a3d-7848-4a8e-b09b-e1d00c296402",
   "metadata": {},
   "source": [
    "**4. Compute the result** of the equation\n",
    "\n",
    "_Hint: Use `compute` on $z$._"
   ]
  },
  {
   "cell_type": "code",
   "execution_count": null,
   "id": "588203b8-0c5c-4523-a225-64e4e194b60d",
   "metadata": {},
   "outputs": [],
   "source": [
    "%%memit\n",
    "\n",
    "# ..."
   ]
  }
 ],
 "metadata": {
  "kernelspec": {
   "display_name": "Python 3 (ipykernel)",
   "language": "python",
   "name": "python3"
  },
  "language_info": {
   "codemirror_mode": {
    "name": "ipython",
    "version": 3
   },
   "file_extension": ".py",
   "mimetype": "text/x-python",
   "name": "python",
   "nbconvert_exporter": "python",
   "pygments_lexer": "ipython3",
   "version": "3.10.6"
  }
 },
 "nbformat": 4,
 "nbformat_minor": 5
}
