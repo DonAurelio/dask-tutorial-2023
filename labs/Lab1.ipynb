{
 "cells": [
  {
   "cell_type": "markdown",
   "id": "f1aace1b-44a0-4f40-acd1-9bf395bc4ce9",
   "metadata": {},
   "source": [
    "<img src=\"http://dask.readthedocs.io/en/latest/_images/dask_horizontal.svg\"\n",
    "     align=\"right\"\n",
    "     width=\"30%\"\n",
    "     alt=\"Dask logo\\\">\n",
    "\n",
    "# Lab 1: Parallel programming\n",
    "\n",
    "In this mini-lab, you will parallelize a basic sequential code using domain decompositon (`Dask Array`) and  for functional decomposition (`Dask Delayed`). Then you should answer the questions provided below."
   ]
  },
  {
   "cell_type": "markdown",
   "id": "8e9f30e6-f3b2-43a2-8317-9dbd1b41ae28",
   "metadata": {},
   "source": [
    "**Problem**. Consider the following equation for arrays of shape `(1000, 1000)`. Suppose $x$ and $y$ are both matrices of ones.\n",
    "\n",
    "$$\n",
    "  z = (x^2 + y^2) * (x^2 - y^2)\n",
    "$$\n",
    "\n",
    "**Activities**\n",
    "1. Sequential programming approach: Write a sequential program to find the value of $z$.\n",
    "2. Parallel programming approach: Write a parallel version of the sequential program using the domain decomposition approach.\n",
    "3. Parallel programming approach: Write a parallel version of the sequential program using the functional decomposition approach.\n",
    "\n",
    "**Questions**\n",
    "\n",
    "1. According to your experience, what was the most natural way to parallelize the equation (domain or functional decomposition)? Why?\n",
    "2. What is the best approach to parallelize this problem (domain or functional decomposition)? Why? "
   ]
  },
  {
   "cell_type": "markdown",
   "id": "e3a88910-cd9e-46cb-962d-74ffcdfbd483",
   "metadata": {},
   "source": [
    "### Sequential programming approach"
   ]
  },
  {
   "cell_type": "markdown",
   "id": "e8d9b0cf-ba04-4df9-9753-12928100278d",
   "metadata": {},
   "source": [
    "__1. Import required libraries, define required variables and functions__"
   ]
  },
  {
   "cell_type": "code",
   "execution_count": 2,
   "id": "30026725-5461-42e4-b719-fb555a7e9ef8",
   "metadata": {},
   "outputs": [],
   "source": [
    "import numpy as np \n",
    "\n",
    "# Size of the array\n",
    "shape = (1000,1000)"
   ]
  },
  {
   "cell_type": "markdown",
   "id": "4a0202c7-51e5-48a8-8263-d46ddbce5732",
   "metadata": {},
   "source": [
    "__2. Create arrays__"
   ]
  },
  {
   "cell_type": "code",
   "execution_count": null,
   "id": "c87e8c75-109a-4fbc-8fcd-bb40d6f8a3af",
   "metadata": {},
   "outputs": [],
   "source": [
    "x = np.ones(shape=shape)\n",
    "y = np.ones(shape=shape)"
   ]
  },
  {
   "cell_type": "markdown",
   "id": "ec8c429c-7c73-44b4-97c3-99d5bc8aae34",
   "metadata": {},
   "source": [
    "__2. Write the sequential program to find the value of $z$__"
   ]
  },
  {
   "cell_type": "code",
   "execution_count": 4,
   "id": "0f1f7e29-4f62-42a0-ac06-dc627d866b6c",
   "metadata": {},
   "outputs": [
    {
     "name": "stdout",
     "output_type": "stream",
     "text": [
      "CPU times: user 25.6 ms, sys: 56.8 ms, total: 82.5 ms\n",
      "Wall time: 91.5 ms\n"
     ]
    },
    {
     "data": {
      "text/plain": [
       "array([[0., 0., 0., ..., 0., 0., 0.],\n",
       "       [0., 0., 0., ..., 0., 0., 0.],\n",
       "       [0., 0., 0., ..., 0., 0., 0.],\n",
       "       ...,\n",
       "       [0., 0., 0., ..., 0., 0., 0.],\n",
       "       [0., 0., 0., ..., 0., 0., 0.],\n",
       "       [0., 0., 0., ..., 0., 0., 0.]])"
      ]
     },
     "execution_count": 4,
     "metadata": {},
     "output_type": "execute_result"
    }
   ],
   "source": [
    "%%time\n",
    "\n",
    "z = ((x**2) + (y**2)) * ((x**2) - (y**2))\n",
    "z"
   ]
  },
  {
   "cell_type": "markdown",
   "id": "d13890e4-34f4-4f6c-be16-715a0b88fe5c",
   "metadata": {},
   "source": [
    "### Parallel programming approach: Domain decomposition (Dask Array)\n",
    "\n",
    "*Hint: Copy useful code snippets from the intro notebook.*"
   ]
  },
  {
   "cell_type": "markdown",
   "id": "e9850350-94c1-4f13-b0c5-e50f6ef3e0a3",
   "metadata": {},
   "source": [
    "__1. Import required libraries, define required variables and functions__\n",
    "\n",
    "_Hint: Import dask.array, define shape and chunks_"
   ]
  },
  {
   "cell_type": "code",
   "execution_count": null,
   "id": "81ff5bb4-591e-40e6-86fe-8d8712164d28",
   "metadata": {},
   "outputs": [],
   "source": [
    "# ...\n",
    "\n",
    "shape = # ..."
   ]
  },
  {
   "cell_type": "markdown",
   "id": "5aaecc13-80fa-47d8-9844-373e382d7706",
   "metadata": {},
   "source": [
    "__2. Create the first array__ using `Dask Array` and perform domain decomposition. The `chucks` param tell Dask the size of the chuck that will be considered for the decomposition. "
   ]
  },
  {
   "cell_type": "code",
   "execution_count": null,
   "id": "016fe855-dbef-4939-b661-61a606a0767a",
   "metadata": {},
   "outputs": [],
   "source": [
    "x = # ...\n",
    "x"
   ]
  },
  {
   "cell_type": "markdown",
   "id": "d30bbd12-1d73-49e7-adde-1375b49d210d",
   "metadata": {},
   "source": [
    "__3. Create the second array__ using `Dask Array` and perform domain decomposition. The `chucks` param tell Dask the size of the chuck that will be considered for the decomposition. "
   ]
  },
  {
   "cell_type": "code",
   "execution_count": null,
   "id": "c7d7628e-eadf-411d-af0c-3d53fd98b591",
   "metadata": {},
   "outputs": [],
   "source": [
    "y = # ...\n",
    "y"
   ]
  },
  {
   "cell_type": "markdown",
   "id": "d76c1bdd-3ae3-432e-a981-842e5cf4997c",
   "metadata": {},
   "source": [
    "__3. Write the parallel version of the program__\n",
    "\n",
    "*Hint: you just need to write the equation $z = x^2 + y^2$ in Python langauge*"
   ]
  },
  {
   "cell_type": "code",
   "execution_count": null,
   "id": "99af5142-6831-45f3-ba09-f021b384b5dd",
   "metadata": {},
   "outputs": [],
   "source": [
    "z = # ...\n",
    "z"
   ]
  },
  {
   "cell_type": "markdown",
   "id": "fcc37a3d-7848-4a8e-b09b-e1d00c296402",
   "metadata": {},
   "source": [
    "**4. Compute the result** of the equation\n",
    "\n",
    "_Hint: Use `compute` on $z$._"
   ]
  },
  {
   "cell_type": "code",
   "execution_count": null,
   "id": "588203b8-0c5c-4523-a225-64e4e194b60d",
   "metadata": {},
   "outputs": [],
   "source": [
    "%%time\n",
    "\n",
    "# ..."
   ]
  },
  {
   "cell_type": "markdown",
   "id": "95172cef-526f-4ebc-9ada-b0efd41aa9df",
   "metadata": {},
   "source": [
    "### Parallel programming approach: Functional decomposition (Dask Delayed)\n",
    "\n",
    "*Hint: Remember, you will need to adjust the code to be able to apply functional decomposition. You can copy useful code snippets from the intro notebook.*"
   ]
  },
  {
   "cell_type": "markdown",
   "id": "dc490eee-8d94-4382-bde3-f8440ae90d36",
   "metadata": {},
   "source": [
    "__1. Import required libraries, define required variables and functions__\n",
    "\n",
    "_Hint: define the shape to be (1000,1000), define `squared`, `add`, `subtract`, and `mult` functions to replace `**`, `+`, `-` and `*`_"
   ]
  },
  {
   "cell_type": "code",
   "execution_count": null,
   "id": "9f0b41ac-389c-42ec-9933-802aa1b26e19",
   "metadata": {},
   "outputs": [],
   "source": [
    "import numpy as np\n",
    "import dask\n",
    "\n",
    "shape = # ...\n",
    "\n",
    "# ...\n",
    "\n",
    "# ...\n",
    "\n",
    "# ...\n",
    "\n",
    "# ..."
   ]
  },
  {
   "cell_type": "markdown",
   "id": "d5e3dcf0-90d5-4cda-9477-7b9b25fa44cb",
   "metadata": {},
   "source": [
    "__2. Create arrays__"
   ]
  },
  {
   "cell_type": "code",
   "execution_count": null,
   "id": "b31753e0-3168-46c5-bf87-7e248e7b0dcd",
   "metadata": {},
   "outputs": [],
   "source": [
    "x = np.ones(shape=shape)\n",
    "y = np.ones(shape=shape)"
   ]
  },
  {
   "cell_type": "markdown",
   "id": "9c574558-468a-4d10-ad50-5ef968e00a6e",
   "metadata": {},
   "source": [
    "__3. Write the equation in terms of functions__\n",
    "\n",
    "_Hint: you just need to write the equation $z = x^2 + y^2$ in Python langauge, but using `squared`, `add`, `substract`, and `mult` functions in place of `**`, `+`, `-` and `*`. It will be easier if you assign the result of a function to a new variable, for example: `a`, `b`, `c`, ..._"
   ]
  },
  {
   "cell_type": "code",
   "execution_count": null,
   "id": "1cf17ca0-8965-468c-80b5-48f47d977cf9",
   "metadata": {},
   "outputs": [],
   "source": [
    "%%time \n",
    "\n",
    "a = # ...\n",
    "b = # ... \n",
    "c = # ...\n",
    "d = # ...\n",
    "e = # ...\n",
    "e"
   ]
  },
  {
   "cell_type": "markdown",
   "id": "3c8709d7-393f-40dd-8964-26550b7d6ee8",
   "metadata": {},
   "source": [
    "__4. Parallelize the previous program__ using Dask Delayed."
   ]
  },
  {
   "cell_type": "code",
   "execution_count": null,
   "id": "edc5f007-7070-4248-b25f-629577a8c165",
   "metadata": {},
   "outputs": [],
   "source": [
    "%%time \n",
    "\n",
    "a = # ...\n",
    "b = # ... \n",
    "c = # ...\n",
    "d = # ...\n",
    "e = # ...\n",
    "e"
   ]
  },
  {
   "cell_type": "markdown",
   "id": "37c77dbc-f666-4279-bbb4-99b93bc45c3b",
   "metadata": {},
   "source": [
    "__5. Visualize the parallel computation__ to be performed."
   ]
  },
  {
   "cell_type": "code",
   "execution_count": null,
   "id": "e952c345-2ec0-4a2a-afc3-43fdc3311573",
   "metadata": {},
   "outputs": [],
   "source": [
    "e.visualize()"
   ]
  },
  {
   "cell_type": "markdown",
   "id": "3bc6900b-4838-4d82-bc4d-63c09a8db3a9",
   "metadata": {},
   "source": [
    "__6. Execute the computation__\n",
    "\n",
    "_Questions: wondering why we need to use `compute` in Dask? Ask the speaker._"
   ]
  },
  {
   "cell_type": "code",
   "execution_count": null,
   "id": "ad488c89-7d80-4aff-b198-5107de500233",
   "metadata": {},
   "outputs": [],
   "source": [
    "%%time\n",
    "\n",
    "e.compute()"
   ]
  }
 ],
 "metadata": {
  "kernelspec": {
   "display_name": "Python 3 (ipykernel)",
   "language": "python",
   "name": "python3"
  },
  "language_info": {
   "codemirror_mode": {
    "name": "ipython",
    "version": 3
   },
   "file_extension": ".py",
   "mimetype": "text/x-python",
   "name": "python",
   "nbconvert_exporter": "python",
   "pygments_lexer": "ipython3",
   "version": "3.10.6"
  }
 },
 "nbformat": 4,
 "nbformat_minor": 5
}
