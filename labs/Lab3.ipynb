{
 "cells": [
  {
   "cell_type": "markdown",
   "id": "f1aace1b-44a0-4f40-acd1-9bf395bc4ce9",
   "metadata": {},
   "source": [
    "<a href=\"https://www.dask.org/\" target=\"_blank\">\n",
    "<img src=\"http://dask.readthedocs.io/en/latest/_images/dask_horizontal.svg\"\n",
    "     align=\"right\"\n",
    "     width=\"30%\"\n",
    "     alt=\"Dask logo\\\">\n",
    "</a>\n",
    "\n",
    "# Lab 3: Scalability\n",
    "\n",
    "In this mini-lab, you will solve the problem described below in a High Performance Computing System and a Cloud Clomputing System."
   ]
  },
  {
   "cell_type": "markdown",
   "id": "53af4c60-4dfe-4d0f-a070-c1ea5735e561",
   "metadata": {},
   "source": [
    "**Problem**. Consider the following equation for large arrays of shape `(10000,10000)`. Suppose $x$ and $y$ are both ones matrices.\n",
    "\n",
    "$$\n",
    "  z = (x^2 + y^2) * (x^2 - y^2)\n",
    "$$\n",
    "\n",
    "**Activities**\n",
    "1. Cluster in a High Performance Computing System: Deploy a Dask cluster in the HPC system, solve the equation for $z$ using Dask Array. Perform the computation with the following chunk size 10, 100, and 1000. Take note of the execution time. \n",
    "2. Cluster in a Cloud Computing System: Deploy a Dask cluster in the Cloud system, solve the equation for $z$ using Dask Array. Perform the computation with the following chunk size 10, 100, and 1000. Take note of the execution time. \n",
    "\n",
    "**Questions**\n",
    "\n",
    "1. In which computing environment did you have shorter execution times?\n",
    "2. What chunk size allowed you to have lower execution times on each platform?"
   ]
  },
  {
   "attachments": {},
   "cell_type": "markdown",
   "id": "3ec3d35a-ff94-4225-8874-353d4d67e7b2",
   "metadata": {},
   "source": [
    "## 1. Cluster in a High Performance Computing System"
   ]
  },
  {
   "cell_type": "markdown",
   "id": "c9f55345-7eeb-4477-bee7-e7f3345f4d5f",
   "metadata": {},
   "source": [
    "__1. Import required libraries, define required variables and functions__"
   ]
  },
  {
   "cell_type": "code",
   "execution_count": null,
   "id": "fe82a9e6-7ec9-45b7-a2c3-4aa2c5b31db9",
   "metadata": {},
   "outputs": [],
   "source": [
    "# ...\n",
    "# ...\n",
    "# ..."
   ]
  },
  {
   "cell_type": "markdown",
   "id": "b9d2ff6d-c0bb-4404-bbdc-6ebc164004a3",
   "metadata": {},
   "source": [
    "__2. Create a Dask cluster__"
   ]
  },
  {
   "cell_type": "code",
   "execution_count": null,
   "id": "ed5b7133-348e-4557-8b9f-a6180e75b726",
   "metadata": {},
   "outputs": [],
   "source": [
    "cluster = SLURMCluster(\n",
    "    cores=1,\n",
    "    scheduler_options={\"dashboard_address\": \":0\"}\n",
    ")"
   ]
  },
  {
   "cell_type": "markdown",
   "id": "6d7d7223-4f1d-49e6-ace1-5272eb63c31b",
   "metadata": {},
   "source": [
    "__3. Create a Dask Client and connect the client to the Dask cluster__\n",
    "\n",
    "_Activities:_ \n",
    "\n",
    "1. Run the cell bellow\n",
    "2. Use the option `Lauch dashborad in JupyterLab`, this will display the Dask Dashboard."
   ]
  },
  {
   "cell_type": "code",
   "execution_count": null,
   "id": "53aa8ca6-08d3-480a-8b9a-c6c94c3b6497",
   "metadata": {
    "scrolled": true
   },
   "outputs": [],
   "source": [
    "client = # ...\n",
    "client"
   ]
  },
  {
   "cell_type": "markdown",
   "id": "e65464e0-2ca8-4b30-adda-30d2825a40e8",
   "metadata": {},
   "source": [
    "__4. Deploy 4 workers for your Dask cluster__\n",
    "\n",
    "_Hint: Create 4 workers._"
   ]
  },
  {
   "cell_type": "code",
   "execution_count": null,
   "id": "8da7f192-790b-4761-8a4f-fd5b234b9961",
   "metadata": {},
   "outputs": [],
   "source": [
    "cluster.scale(jobs=# ...)"
   ]
  },
  {
   "cell_type": "markdown",
   "id": "4223cd5f-bfcf-406f-95e6-7fdccd275269",
   "metadata": {},
   "source": [
    "__5. Solve the problem__\n",
    "\n",
    "Hint: You should perform the following steps\n",
    "\n",
    "1. Import dask.arry\n",
    "2. Create the x and y arrays\n",
    "3. Write the equation\n",
    "4. Compute the result."
   ]
  },
  {
   "cell_type": "code",
   "execution_count": 1,
   "id": "4813933e-e96a-48e5-8452-24568002c6de",
   "metadata": {},
   "outputs": [],
   "source": [
    "# ... Import dask.array\n",
    "\n",
    "# ... Create the x and y arrays\n",
    "\n",
    "# ... Write the equation \n",
    "\n",
    "# ... Compute the result\n"
   ]
  },
  {
   "cell_type": "markdown",
   "id": "e25122b6-0feb-4822-ab03-1122ceab935c",
   "metadata": {},
   "source": [
    "__6. Showdown the cluster__\n",
    "\n",
    "_Hint: This is **MANDATORY**, one you finish using a cluster you must turn it of, since it will release the computing resources your cluster was using_"
   ]
  },
  {
   "cell_type": "code",
   "execution_count": null,
   "id": "616b86df-4de0-425b-b4fc-f2c0966d185b",
   "metadata": {},
   "outputs": [],
   "source": [
    "cluster.close()"
   ]
  },
  {
   "cell_type": "markdown",
   "id": "a3c4dfd4-5143-42e6-92d7-0e99590a02bb",
   "metadata": {},
   "source": [
    "__7. Close the connection between the client and the cluster__"
   ]
  },
  {
   "cell_type": "code",
   "execution_count": null,
   "id": "3cef29bf-c678-4c8b-b3c5-c294f1fc147b",
   "metadata": {},
   "outputs": [],
   "source": [
    "client.close()"
   ]
  },
  {
   "cell_type": "markdown",
   "id": "8e9f30e6-f3b2-43a2-8317-9dbd1b41ae28",
   "metadata": {},
   "source": [
    "## 2. Cluster in a Cloud Computing System"
   ]
  },
  {
   "cell_type": "markdown",
   "id": "ea8bc451-2025-4e1f-951d-e4da7727f787",
   "metadata": {},
   "source": [
    "__1. Authenticate in the Coiled cloud__\n",
    "\n",
    "Hint: For authentication you will need a token, this toke will be provided by the tutor. Then replace `[ASK_YOUR_TUTOR_FOT_THE_TOKEN]` by the token. \n",
    "\n",
    "1. Open a terminal.\n",
    "2. Update the token in the command bellow and execute it in the terminal.\n",
    "\n",
    "```bash\n",
    "coiled login --token [ASK_YOUR_TUTOR_FOT_THE_TOKEN] --account dask-tutorials\n",
    "```\n",
    "\n",
    "3. Use the following command to deploy the tutorial in Coiled\n",
    "\n",
    "```bash\n",
    "coiled notebook start --software dask-tutorial-hpc-2023\n",
    "```\n",
    "4. Once you have finished, use Control + c to close the connection."
   ]
  },
  {
   "cell_type": "markdown",
   "id": "52740f34-3b4f-4804-9cf4-cd8275e7d022",
   "metadata": {},
   "source": [
    "__1. Import required libraries, define required variables and functions__"
   ]
  },
  {
   "cell_type": "code",
   "execution_count": null,
   "id": "51040728-2660-4b5a-a6aa-2bed961af907",
   "metadata": {},
   "outputs": [],
   "source": [
    "# ...\n",
    "# ...\n",
    "# ..."
   ]
  },
  {
   "cell_type": "markdown",
   "id": "8f875bbf-cf88-4895-a214-0e0666378e12",
   "metadata": {},
   "source": [
    "__2. Create a Dask cluster using the Coiled API__\n",
    "\n",
    "_Hint: Change `...` by your user name. For example `ss0`_"
   ]
  },
  {
   "cell_type": "code",
   "execution_count": null,
   "id": "0a1a8c58-4a9c-439e-a30b-5186a44fb3da",
   "metadata": {},
   "outputs": [],
   "source": [
    "cluster = coiled.Cluster(name=...,n_workers=5)"
   ]
  },
  {
   "cell_type": "markdown",
   "id": "764a5a1d-8ee5-4417-9ade-35e5b60877cb",
   "metadata": {},
   "source": [
    "__3. Create a Dask Client and connect the client to the Dask cluster in Coiled__\n",
    "\n",
    "_Activities:_ \n",
    "\n",
    "1. Run the cell bellow\n",
    "2. Use the option `Lauch dashborad in JupyterLab`, this will display the Dask Dashboard."
   ]
  },
  {
   "cell_type": "code",
   "execution_count": null,
   "id": "94bb64f1-0ba4-41c0-bb96-32eaa72f7cfa",
   "metadata": {},
   "outputs": [],
   "source": [
    "client = # ...\n",
    "client"
   ]
  },
  {
   "cell_type": "markdown",
   "id": "d0b319b6-2469-43c8-8601-e5b5015cc334",
   "metadata": {},
   "source": [
    "__5. Solve the problem__\n",
    "\n",
    "Hint: You should perform the following steps\n",
    "\n",
    "1. Import dask.arry\n",
    "2. Create the x and y arrays\n",
    "3. Write the equation\n",
    "4. Compute the result."
   ]
  },
  {
   "cell_type": "code",
   "execution_count": null,
   "id": "af7aa7b1-864f-47c1-bb30-76b297f6c0a4",
   "metadata": {},
   "outputs": [],
   "source": [
    "# ... Import dask.array\n",
    "\n",
    "# ... Create the x and y arrays\n",
    "\n",
    "# ... Write the equation \n",
    "\n",
    "# ... Compute the result\n"
   ]
  },
  {
   "cell_type": "markdown",
   "id": "b94e6027-7270-4762-9653-0a0b941d98e6",
   "metadata": {},
   "source": [
    "__6. Showdown the cluster__\n",
    "\n",
    "_Hint: This is **MANDATORY**, one you finish using a cluster you must turn it of, since it will release the computing resources your cluster was using_"
   ]
  },
  {
   "cell_type": "code",
   "execution_count": null,
   "id": "ee7cb3ec-f615-4b77-94a3-469bf1485269",
   "metadata": {},
   "outputs": [],
   "source": [
    "cluster.shutdown()"
   ]
  },
  {
   "cell_type": "markdown",
   "id": "b5d4e09b-2e47-4bf6-b795-0a69c77c80c2",
   "metadata": {},
   "source": [
    "__7. Close the connection between the client and the cluster__"
   ]
  },
  {
   "cell_type": "code",
   "execution_count": null,
   "id": "c208902a-3545-4f01-b5ec-033258c343e2",
   "metadata": {},
   "outputs": [],
   "source": [
    "client.close()"
   ]
  },
  {
   "cell_type": "markdown",
   "id": "e22c2a91-f75e-4431-8c79-8f5a2a8d6fe7",
   "metadata": {},
   "source": [
    "# [Index](../0.Introduction.ipynb)"
   ]
  }
 ],
 "metadata": {
  "kernelspec": {
   "display_name": "Python 3 (ipykernel)",
   "language": "python",
   "name": "python3"
  },
  "language_info": {
   "codemirror_mode": {
    "name": "ipython",
    "version": 3
   },
   "file_extension": ".py",
   "mimetype": "text/x-python",
   "name": "python",
   "nbconvert_exporter": "python",
   "pygments_lexer": "ipython3",
   "version": "3.10.6"
  }
 },
 "nbformat": 4,
 "nbformat_minor": 5
}
